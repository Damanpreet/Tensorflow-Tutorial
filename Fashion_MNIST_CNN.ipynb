{
  "nbformat": 4,
  "nbformat_minor": 0,
  "metadata": {
    "colab": {
      "name": "Fashion MNIST-CNN.ipynb",
      "provenance": [],
      "collapsed_sections": []
    },
    "kernelspec": {
      "name": "python3",
      "display_name": "Python 3"
    },
    "accelerator": "GPU"
  },
  "cells": [
    {
      "cell_type": "code",
      "metadata": {
        "id": "Csaj4ZQfl7uu",
        "colab_type": "code",
        "colab": {}
      },
      "source": [
        "import tensorflow as tf\n",
        "import numpy as np\n",
        "import matplotlib.pyplot as plt\n",
        "from tensorflow.examples.tutorials.mnist import input_data"
      ],
      "execution_count": 0,
      "outputs": []
    },
    {
      "cell_type": "markdown",
      "metadata": {
        "id": "zdjWzQocbu2z",
        "colab_type": "text"
      },
      "source": [
        "### Load the dataset ###"
      ]
    },
    {
      "cell_type": "code",
      "metadata": {
        "id": "rwsbaEpqjML-",
        "colab_type": "code",
        "colab": {
          "base_uri": "https://localhost:8080/",
          "height": 34
        },
        "outputId": "9b32552a-4cd5-4e16-8c6d-6963af508c6d"
      },
      "source": [
        "! git clone https://github.com/zalandoresearch/fashion-mnist.git"
      ],
      "execution_count": 2,
      "outputs": [
        {
          "output_type": "stream",
          "text": [
            "fatal: destination path 'fashion-mnist' already exists and is not an empty directory.\n"
          ],
          "name": "stdout"
        }
      ]
    },
    {
      "cell_type": "code",
      "metadata": {
        "id": "hXBu6mMUmI9L",
        "colab_type": "code",
        "colab": {
          "base_uri": "https://localhost:8080/",
          "height": 51
        },
        "outputId": "76ced334-a5c3-462b-d3b3-2d588d27d0e3"
      },
      "source": [
        "!ls fashion-mnist/data/fashion"
      ],
      "execution_count": 3,
      "outputs": [
        {
          "output_type": "stream",
          "text": [
            "t10k-images-idx3-ubyte.gz  train-images-idx3-ubyte.gz\n",
            "t10k-labels-idx1-ubyte.gz  train-labels-idx1-ubyte.gz\n"
          ],
          "name": "stdout"
        }
      ]
    },
    {
      "cell_type": "markdown",
      "metadata": {
        "id": "MPWcX88rjW4Z",
        "colab_type": "text"
      },
      "source": [
        "If you skip the above steps, Tensorflow will download the MNIST dataset, by default."
      ]
    },
    {
      "cell_type": "code",
      "metadata": {
        "id": "Ln81l2MFb5p8",
        "colab_type": "code",
        "colab": {
          "base_uri": "https://localhost:8080/",
          "height": 411
        },
        "outputId": "3bd448f6-357a-4fde-b19f-e8e03a88d440"
      },
      "source": [
        "data = input_data.read_data_sets('fashion-mnist/data/fashion', one_hot=True)"
      ],
      "execution_count": 4,
      "outputs": [
        {
          "output_type": "stream",
          "text": [
            "WARNING:tensorflow:From <ipython-input-4-fcc759696ee7>:1: read_data_sets (from tensorflow.contrib.learn.python.learn.datasets.mnist) is deprecated and will be removed in a future version.\n",
            "Instructions for updating:\n",
            "Please use alternatives such as official/mnist/dataset.py from tensorflow/models.\n",
            "WARNING:tensorflow:From /usr/local/lib/python3.6/dist-packages/tensorflow/contrib/learn/python/learn/datasets/mnist.py:260: maybe_download (from tensorflow.contrib.learn.python.learn.datasets.base) is deprecated and will be removed in a future version.\n",
            "Instructions for updating:\n",
            "Please write your own downloading logic.\n",
            "WARNING:tensorflow:From /usr/local/lib/python3.6/dist-packages/tensorflow/contrib/learn/python/learn/datasets/mnist.py:262: extract_images (from tensorflow.contrib.learn.python.learn.datasets.mnist) is deprecated and will be removed in a future version.\n",
            "Instructions for updating:\n",
            "Please use tf.data to implement this functionality.\n",
            "Extracting fashion-mnist/data/fashion/train-images-idx3-ubyte.gz\n",
            "WARNING:tensorflow:From /usr/local/lib/python3.6/dist-packages/tensorflow/contrib/learn/python/learn/datasets/mnist.py:267: extract_labels (from tensorflow.contrib.learn.python.learn.datasets.mnist) is deprecated and will be removed in a future version.\n",
            "Instructions for updating:\n",
            "Please use tf.data to implement this functionality.\n",
            "Extracting fashion-mnist/data/fashion/train-labels-idx1-ubyte.gz\n",
            "WARNING:tensorflow:From /usr/local/lib/python3.6/dist-packages/tensorflow/contrib/learn/python/learn/datasets/mnist.py:110: dense_to_one_hot (from tensorflow.contrib.learn.python.learn.datasets.mnist) is deprecated and will be removed in a future version.\n",
            "Instructions for updating:\n",
            "Please use tf.one_hot on tensors.\n",
            "Extracting fashion-mnist/data/fashion/t10k-images-idx3-ubyte.gz\n",
            "Extracting fashion-mnist/data/fashion/t10k-labels-idx1-ubyte.gz\n",
            "WARNING:tensorflow:From /usr/local/lib/python3.6/dist-packages/tensorflow/contrib/learn/python/learn/datasets/mnist.py:290: DataSet.__init__ (from tensorflow.contrib.learn.python.learn.datasets.mnist) is deprecated and will be removed in a future version.\n",
            "Instructions for updating:\n",
            "Please use alternatives such as official/mnist/dataset.py from tensorflow/models.\n"
          ],
          "name": "stdout"
        }
      ]
    },
    {
      "cell_type": "code",
      "metadata": {
        "id": "RiCvBireiq9d",
        "colab_type": "code",
        "colab": {}
      },
      "source": [
        "train_images=data.train.images\n",
        "train_labels=data.train.labels\n",
        "test_images=data.test.images\n",
        "test_labels=data.test.labels"
      ],
      "execution_count": 0,
      "outputs": []
    },
    {
      "cell_type": "code",
      "metadata": {
        "id": "MGqnCbUjgwUM",
        "colab_type": "code",
        "colab": {
          "base_uri": "https://localhost:8080/",
          "height": 85
        },
        "outputId": "6f0ae87e-dea8-47a7-dbc7-cbbcb45188a2"
      },
      "source": [
        "print(\"Shape of training data: \", train_images.shape)\n",
        "print(\"Shape of training labels: \", train_labels.shape)\n",
        "print(\"Shape of testing data: \", test_images.shape)\n",
        "print(\"Shape of testing labels: \", test_labels.shape)"
      ],
      "execution_count": 6,
      "outputs": [
        {
          "output_type": "stream",
          "text": [
            "Shape of training data:  (55000, 784)\n",
            "Shape of training labels:  (55000, 10)\n",
            "Shape of testing data:  (10000, 784)\n",
            "Shape of testing labels:  (10000, 10)\n"
          ],
          "name": "stdout"
        }
      ]
    },
    {
      "cell_type": "markdown",
      "metadata": {
        "id": "6QU2HhukdqE_",
        "colab_type": "text"
      },
      "source": [
        "### Visualize the dataset ###"
      ]
    },
    {
      "cell_type": "code",
      "metadata": {
        "id": "mZCfthq6eCYH",
        "colab_type": "code",
        "colab": {}
      },
      "source": [
        "label_dict = {\n",
        " 0: 'T-shirt/top',\n",
        " 1: 'Trouser',\n",
        " 2: 'Pullover',\n",
        " 3: 'Dress',\n",
        " 4: 'Coat',\n",
        " 5: 'Sandal',\n",
        " 6: 'Shirt',\n",
        " 7: 'Sneaker',\n",
        " 8: 'Bag',\n",
        " 9: 'Ankle boot',\n",
        "}"
      ],
      "execution_count": 0,
      "outputs": []
    },
    {
      "cell_type": "code",
      "metadata": {
        "id": "GhbybH52eV1h",
        "colab_type": "code",
        "colab": {
          "base_uri": "https://localhost:8080/",
          "height": 298
        },
        "outputId": "25224705-a53c-4a56-e477-4a36af56b1e1"
      },
      "source": [
        "i=112\n",
        "\n",
        "plt.figure()\n",
        "\n",
        "# display images from the dataset\n",
        "lbl = np.argmax(train_labels[i])\n",
        "plt.imshow(train_images[i].reshape(28, 28), cmap='gray')\n",
        "plt.title(\"Label: \"+ str(label_dict[lbl]))"
      ],
      "execution_count": 8,
      "outputs": [
        {
          "output_type": "execute_result",
          "data": {
            "text/plain": [
              "Text(0.5, 1.0, 'Label: Sandal')"
            ]
          },
          "metadata": {
            "tags": []
          },
          "execution_count": 8
        },
        {
          "output_type": "display_data",
          "data": {
            "image/png": "[encoded data removed]",
            "text/plain": [
              "<Figure size 432x288 with 1 Axes>"
            ]
          },
          "metadata": {
            "tags": []
          }
        }
      ]
    },
    {
      "cell_type": "markdown",
      "metadata": {
        "id": "TVTotWr8w8-T",
        "colab_type": "text"
      },
      "source": [
        "### Examine the dataset ###\n",
        "\n",
        "Basic check - There are no NANs in the input data"
      ]
    },
    {
      "cell_type": "code",
      "metadata": {
        "id": "IH_IeIaJxDaS",
        "colab_type": "code",
        "colab": {
          "base_uri": "https://localhost:8080/",
          "height": 34
        },
        "outputId": "8c17a4fb-459b-4340-aca0-8cc2dea9b43a"
      },
      "source": [
        "np.isnan(train_images).any()"
      ],
      "execution_count": 9,
      "outputs": [
        {
          "output_type": "execute_result",
          "data": {
            "text/plain": [
              "False"
            ]
          },
          "metadata": {
            "tags": []
          },
          "execution_count": 9
        }
      ]
    },
    {
      "cell_type": "markdown",
      "metadata": {
        "id": "NNKwnibvdqqg",
        "colab_type": "text"
      },
      "source": [
        "### Data preprocessing ###\n",
        "We need to reshape the images to feed it as an input to the network. The images should be reshaped to have dimension 28 * 28 * 1. \n",
        "\n",
        "Note - No need to normalize the images as the images are already in the range 0 to 1. "
      ]
    },
    {
      "cell_type": "code",
      "metadata": {
        "id": "VKB_9pFFdp3D",
        "colab_type": "code",
        "colab": {
          "base_uri": "https://localhost:8080/",
          "height": 34
        },
        "outputId": "5b7bdb40-0409-4e80-c4f0-c5d7c8ba7396"
      },
      "source": [
        "print(np.min(train_images[0]), \"\\t\", np.max(train_images[0]))"
      ],
      "execution_count": 10,
      "outputs": [
        {
          "output_type": "stream",
          "text": [
            "0.0 \t 1.0\n"
          ],
          "name": "stdout"
        }
      ]
    },
    {
      "cell_type": "code",
      "metadata": {
        "id": "UgBO_qu1gP92",
        "colab_type": "code",
        "colab": {}
      },
      "source": [
        "# reshape the images to feed it to the network\n",
        "train_images = train_images.reshape(-1, 28, 28, 1)\n",
        "test_images = test_images.reshape(-1, 28, 28,1)"
      ],
      "execution_count": 0,
      "outputs": []
    },
    {
      "cell_type": "code",
      "metadata": {
        "id": "d8JcCZsafiMy",
        "colab_type": "code",
        "colab": {
          "base_uri": "https://localhost:8080/",
          "height": 34
        },
        "outputId": "b35fbf6c-67e7-4233-9524-159d30841adb"
      },
      "source": [
        "train_images[0].shape"
      ],
      "execution_count": 12,
      "outputs": [
        {
          "output_type": "execute_result",
          "data": {
            "text/plain": [
              "(28, 28, 1)"
            ]
          },
          "metadata": {
            "tags": []
          },
          "execution_count": 12
        }
      ]
    },
    {
      "cell_type": "markdown",
      "metadata": {
        "id": "R6SYZhKTmbJP",
        "colab_type": "text"
      },
      "source": [
        "### Defining Hyperparameters ###"
      ]
    },
    {
      "cell_type": "code",
      "metadata": {
        "id": "GvPtMOiPmUoY",
        "colab_type": "code",
        "colab": {}
      },
      "source": [
        "steps_num = 100 # training epochs - number of times you want to repeat the training on the same dataset.\n",
        "learning_rate = 0.001 # learning rate/step size - controls how much we are adjusting the weights of the network w.r.t. to the loss gradients.\n",
        "batch_size = 128 # chooses the images in batches "
      ],
      "execution_count": 0,
      "outputs": []
    },
    {
      "cell_type": "markdown",
      "metadata": {
        "id": "q3FNqKtugfCC",
        "colab_type": "text"
      },
      "source": [
        "It is recommended to use a batch size in the power of 2, since the number of physical processor is often a power of 2.\n",
        "Make sure that your machine has sufficient RAM to handle the specific batch size."
      ]
    },
    {
      "cell_type": "markdown",
      "metadata": {
        "id": "tDSTRkHziLPv",
        "colab_type": "text"
      },
      "source": [
        "### Network parameters ###"
      ]
    },
    {
      "cell_type": "code",
      "metadata": {
        "id": "akEkbUFZiMx4",
        "colab_type": "code",
        "colab": {}
      },
      "source": [
        "image_size= 28 # Fashion MNIST data input\n",
        "labels_size = 10 # Fashion MNIST classes"
      ],
      "execution_count": 0,
      "outputs": []
    },
    {
      "cell_type": "markdown",
      "metadata": {
        "id": "RHD9BaClmzG3",
        "colab_type": "text"
      },
      "source": [
        "### Setup the architecture ###"
      ]
    },
    {
      "cell_type": "code",
      "metadata": {
        "id": "jDqLF5V8mvpD",
        "colab_type": "code",
        "colab": {}
      },
      "source": [
        "# defining placeholders\n",
        "training_data = tf.placeholder(tf.float32, [None, image_size, image_size, 1]) # input placeholder\n",
        "labels = tf.placeholder(tf.float32, [None, labels_size]) # output data"
      ],
      "execution_count": 0,
      "outputs": []
    },
    {
      "cell_type": "markdown",
      "metadata": {
        "id": "KqlhLJAum3GN",
        "colab_type": "text"
      },
      "source": [
        "The first dimension is None. It tells the placeholder that it will receive this dimension when you feed in the data to it. "
      ]
    },
    {
      "cell_type": "markdown",
      "metadata": {
        "id": "AX9L1VaIkKek",
        "colab_type": "text"
      },
      "source": [
        "### Wrapper functions ###\n",
        "\n",
        "Checkout:\n",
        "\n",
        "tf.nn.conv2d https://www.tensorflow.org/api_docs/python/tf/nn/conv2d\n",
        "\n",
        "tf.nn.max_pool https://www.tensorflow.org/api_docs/python/tf/nn/max_pool"
      ]
    },
    {
      "cell_type": "code",
      "metadata": {
        "id": "YkEglMGoiCmp",
        "colab_type": "code",
        "colab": {}
      },
      "source": [
        "# convolution layer + Relu\n",
        "def conv2d(x, W, b, s):\n",
        "  # stride in the first and last dimension is always 1. First dimension is the image number and the last dimension is for the input channel.\n",
        "  # padding 'SAME' - to keep the dimension same.\n",
        "  y = tf.nn.conv2d(x, W, strides=[1, s, s, 1], padding='SAME') \n",
        "  y = tf.nn.bias_add(y, b)\n",
        "  y = tf.nn.relu(y)\n",
        "  return y\n",
        "\n",
        "# Max pooling layer\n",
        "def maxpool2d(X, k):\n",
        "  y = tf.nn.max_pool(X, ksize=[1, k, k, 1], strides=[1, k, k, 1], padding='SAME')\n",
        "  return y"
      ],
      "execution_count": 0,
      "outputs": []
    },
    {
      "cell_type": "markdown",
      "metadata": {
        "id": "6r6eXagkqlTV",
        "colab_type": "text"
      },
      "source": [
        "### Weight and Bias Parameters ###\n",
        "\n",
        "#### For conv layers: ####\n",
        "\n",
        "A **weight variable** will be of the form: **(f, f, c, out_c)** - You apply out_c number of filters of size f X f across c channels.\n",
        "\n",
        "The first and second parameter are the filter size, third parameter is the input number of channels, fourth parameter is the output number of channel of the layer.\n",
        "\n",
        "\n",
        "#### For fully connected layers: ####\n",
        "\n",
        "Since we will flatten the image before feeding into the fully connected layers. The weights of the FC layers are of the form - **(input_dim, output_dim)**\n",
        "\n",
        "\n",
        "A **bias variable** shape is equivalent to the number of output channels of that layer.\n"
      ]
    },
    {
      "cell_type": "code",
      "metadata": {
        "id": "FMyEw2nWlZ-h",
        "colab_type": "code",
        "colab": {}
      },
      "source": [
        "weights = {\n",
        "    'wc1' : tf.get_variable('W0', shape=(3, 3, 1, 32), initializer=tf.contrib.layers.xavier_initializer()),\n",
        "    'wc2' : tf.get_variable('W1', shape=(3, 3, 32, 64), initializer=tf.contrib.layers.xavier_initializer()),\n",
        "    'wc3' : tf.get_variable('W2', shape=(3, 3, 64, 128), initializer=tf.contrib.layers.xavier_initializer()),\n",
        "    'wd1' : tf.get_variable('W3', shape=(4*4*128, 128), initializer=tf.contrib.layers.xavier_initializer()),\n",
        "    'wd2' : tf.get_variable('W4', shape=(128, 10), initializer=tf.contrib.layers.xavier_initializer())\n",
        "}"
      ],
      "execution_count": 0,
      "outputs": []
    },
    {
      "cell_type": "code",
      "metadata": {
        "id": "DmFaiaDlujUa",
        "colab_type": "code",
        "colab": {}
      },
      "source": [
        "biases = {\n",
        "    'bc1' : tf.get_variable('B0', shape=(32), initializer=tf.contrib.layers.xavier_initializer()),\n",
        "    'bc2' : tf.get_variable('B1', shape=(64), initializer=tf.contrib.layers.xavier_initializer()),\n",
        "    'bc3' : tf.get_variable('B2', shape=(128), initializer=tf.contrib.layers.xavier_initializer()),\n",
        "    'bd1' : tf.get_variable('B3', shape=(128), initializer=tf.contrib.layers.xavier_initializer()),\n",
        "    'bd2' : tf.get_variable('B4', shape=(10), initializer=tf.contrib.layers.xavier_initializer()),\n",
        "}"
      ],
      "execution_count": 0,
      "outputs": []
    },
    {
      "cell_type": "code",
      "metadata": {
        "id": "YsQdxWW1vJVt",
        "colab_type": "code",
        "colab": {}
      },
      "source": [
        "def model(X, weights, biases):\n",
        "  # convolution block 1\n",
        "  conv1 = conv2d(X, weights['wc1'], biases['bc1'], 1)\n",
        "  conv1 = maxpool2d(conv1, k=2) # returns an output of shape 14 X 14\n",
        "  conv1 = tf.nn.dropout(conv1, keep_prob=0.3)\n",
        "  \n",
        "  # convolution block 2\n",
        "  conv2 = conv2d(conv1, weights['wc2'], biases['bc2'], 1)\n",
        "  conv2 = maxpool2d(conv2, k=2) # returns an output of shape 7 X 7\n",
        "  conv2 = tf.nn.dropout(conv2, keep_prob=0.3)\n",
        "  \n",
        "  # convolution block 3\n",
        "  conv3 = conv2d(conv2, weights['wc3'], biases['bc3'], 1)\n",
        "  conv3 = maxpool2d(conv3, k=2) # returns an output of shape 4 X 4\n",
        "  conv3 = tf.nn.dropout(conv3, keep_prob=0.4)\n",
        "  \n",
        "  # Fully connected layers\n",
        "  fc1 = tf.reshape(conv3, [-1, weights['wd1'].get_shape().as_list()[0]])\n",
        "  fc1 = tf.add(tf.matmul(fc1, weights['wd1']), biases['bd1'])\n",
        "  fc1 = tf.nn.leaky_relu(fc1)\n",
        "  fc1 = tf.nn.dropout(fc1, keep_prob=0.3)\n",
        "  \n",
        "  # Final layer\n",
        "  output = tf.add(tf.matmul(fc1, weights['wd2']), biases['bd2'])\n",
        "  return output"
      ],
      "execution_count": 0,
      "outputs": []
    },
    {
      "cell_type": "markdown",
      "metadata": {
        "id": "IQiz8MMH0RdC",
        "colab_type": "text"
      },
      "source": [
        "Read more about the cross entropy loss function.\n",
        "\n",
        "https://www.tensorflow.org/api_docs/python/tf/nn/softmax_cross_entropy_with_logits\n",
        "\n",
        "To learn more about the Adam optimizer, look here.\n",
        "\n",
        "https://machinelearningmastery.com/adam-optimization-algorithm-for-deep-learning/"
      ]
    },
    {
      "cell_type": "code",
      "metadata": {
        "id": "bgJp-AxFxY_o",
        "colab_type": "code",
        "outputId": "dbefd9b3-02b0-4ccc-9227-5025d7114021",
        "colab": {
          "base_uri": "https://localhost:8080/",
          "height": 292
        }
      },
      "source": [
        "predict = model(training_data, weights, biases)\n",
        "\n",
        "# tf.reduce_mean calculates the mean over all the batches to get the single loss value.\n",
        "loss = tf.reduce_mean(tf.nn.softmax_cross_entropy_with_logits(logits=predict, labels=labels))\n",
        "\n",
        "optimizer = tf.train.AdamOptimizer(learning_rate=learning_rate).minimize(loss)"
      ],
      "execution_count": 20,
      "outputs": [
        {
          "output_type": "stream",
          "text": [
            "WARNING:tensorflow:From <ipython-input-19-6c852be569c2>:5: calling dropout (from tensorflow.python.ops.nn_ops) with keep_prob is deprecated and will be removed in a future version.\n",
            "Instructions for updating:\n",
            "Please use `rate` instead of `keep_prob`. Rate should be set to `rate = 1 - keep_prob`.\n",
            "WARNING:tensorflow:Large dropout rate: 0.7 (>0.5). In TensorFlow 2.x, dropout() uses dropout rate instead of keep_prob. Please ensure that this is intended.\n",
            "WARNING:tensorflow:Large dropout rate: 0.7 (>0.5). In TensorFlow 2.x, dropout() uses dropout rate instead of keep_prob. Please ensure that this is intended.\n",
            "WARNING:tensorflow:Large dropout rate: 0.6 (>0.5). In TensorFlow 2.x, dropout() uses dropout rate instead of keep_prob. Please ensure that this is intended.\n",
            "WARNING:tensorflow:Large dropout rate: 0.7 (>0.5). In TensorFlow 2.x, dropout() uses dropout rate instead of keep_prob. Please ensure that this is intended.\n",
            "WARNING:tensorflow:From <ipython-input-20-7106ae85a83a>:4: softmax_cross_entropy_with_logits (from tensorflow.python.ops.nn_ops) is deprecated and will be removed in a future version.\n",
            "Instructions for updating:\n",
            "\n",
            "Future major versions of TensorFlow will allow gradients to flow\n",
            "into the labels input on backprop by default.\n",
            "\n",
            "See `tf.nn.softmax_cross_entropy_with_logits_v2`.\n",
            "\n"
          ],
          "name": "stdout"
        }
      ]
    },
    {
      "cell_type": "markdown",
      "metadata": {
        "id": "g8Z9xemn3WYi",
        "colab_type": "text"
      },
      "source": [
        "### Evaluating the model predictions ###"
      ]
    },
    {
      "cell_type": "code",
      "metadata": {
        "id": "K8h9wCRl1Q14",
        "colab_type": "code",
        "colab": {}
      },
      "source": [
        "prediction = tf.argmax(predict, 1)\n",
        "gt = tf.argmax(labels, 1)\n",
        "\n",
        "correct_pred = tf.equal(prediction, gt)\n",
        "\n",
        "# calculate the accuracy across the images and average them out.\n",
        "accuracy = tf.reduce_mean(tf.cast(correct_pred, tf.float32))"
      ],
      "execution_count": 0,
      "outputs": []
    },
    {
      "cell_type": "markdown",
      "metadata": {
        "id": "QhKfCphP4CU4",
        "colab_type": "text"
      },
      "source": [
        "### Training the model ###"
      ]
    },
    {
      "cell_type": "code",
      "metadata": {
        "id": "MzNJ5ryb4AYM",
        "colab_type": "code",
        "outputId": "fef57e52-8c96-4b8c-8249-272ab53e1a6a",
        "colab": {
          "base_uri": "https://localhost:8080/",
          "height": 1000
        }
      },
      "source": [
        "# initialize the global variables\n",
        "init = tf.global_variables_initializer()\n",
        "\n",
        "with tf.Session() as sess:\n",
        "  sess.run(init)\n",
        "  \n",
        "  train_loss, test_loss, train_acc, test_acc = [], [], [], []\n",
        "  \n",
        "  for ep in range(steps_num):\n",
        "    train_loss_ep, train_acc_ep = [], []\n",
        "    for itr in range(len(train_images)//batch_size):\n",
        "      batch_x = train_images[itr*batch_size:min((itr+1)*batch_size, len(train_images))]\n",
        "      batch_y = train_labels[itr*batch_size:min((itr+1)*batch_size, len(train_images))]\n",
        "      \n",
        "      # run the optimizer, loss and accuracy\n",
        "      opt = sess.run(optimizer, feed_dict={training_data: batch_x, labels: batch_y})\n",
        "      \n",
        "      _, loss_val, acc_val = sess.run([optimizer, loss, accuracy], feed_dict={training_data: batch_x, labels: batch_y})\n",
        "      \n",
        "#       if np.isnan(loss_val):\n",
        "#         print(\"Iteration: \", itr)\n",
        "#         print(batch_x.shape)\n",
        "#         print(batch_y.shape)\n",
        "        \n",
        "      assert(not np.isnan(loss_val))\n",
        "      \n",
        "      train_loss_ep.append(loss_val)\n",
        "      train_acc_ep.append(acc_val)\n",
        "      \n",
        "    # find the training loss and accuracy per epoch\n",
        "    train_loss_per_epoch = np.mean(np.array(train_loss_ep))\n",
        "    train_loss.append(train_loss_per_epoch)\n",
        "    train_acc_per_epoch = np.mean(np.array(train_acc_ep))\n",
        "    train_acc.append(train_acc_per_epoch)\n",
        "    \n",
        "    print(\"\\nEpoch: {:0d} \\t Training Loss: {:.3f}, Training Accuracy: {:.3f}\".format(ep, train_loss_per_epoch, train_acc_per_epoch))\n",
        "     \n",
        "    # find testing loss and accuracy \n",
        "    test_loss_ep, test_acc_ep = sess.run([loss, accuracy], feed_dict={training_data: test_images, labels: test_labels})\n",
        "    \n",
        "    print(\"\\nTesting Loss: {:.3f}, Testing Accuracy: {:.3f}\".format(test_loss_ep, test_acc_ep))\n",
        "    test_acc.append(test_acc_ep)\n",
        "    test_loss.append(test_loss_ep)"
      ],
      "execution_count": 22,
      "outputs": [
        {
          "output_type": "stream",
          "text": [
            "\n",
            "Epoch: 0 \t Training Loss: 1.064, Training Accuracy: 0.604\n",
            "\n",
            "Testing Loss: 0.719, Testing Accuracy: 0.732\n",
            "\n",
            "Epoch: 1 \t Training Loss: 0.642, Training Accuracy: 0.762\n",
            "\n",
            "Testing Loss: 0.610, Testing Accuracy: 0.774\n",
            "\n",
            "Epoch: 2 \t Training Loss: 0.573, Training Accuracy: 0.787\n",
            "\n",
            "Testing Loss: 0.577, Testing Accuracy: 0.789\n",
            "\n",
            "Epoch: 3 \t Training Loss: 0.533, Training Accuracy: 0.804\n",
            "\n",
            "Testing Loss: 0.548, Testing Accuracy: 0.795\n",
            "\n",
            "Epoch: 4 \t Training Loss: 0.515, Training Accuracy: 0.811\n",
            "\n",
            "Testing Loss: 0.521, Testing Accuracy: 0.807\n",
            "\n",
            "Epoch: 5 \t Training Loss: 0.492, Training Accuracy: 0.817\n",
            "\n",
            "Testing Loss: 0.508, Testing Accuracy: 0.814\n",
            "\n",
            "Epoch: 6 \t Training Loss: 0.479, Training Accuracy: 0.823\n",
            "\n",
            "Testing Loss: 0.517, Testing Accuracy: 0.810\n",
            "\n",
            "Epoch: 7 \t Training Loss: 0.472, Training Accuracy: 0.826\n",
            "\n",
            "Testing Loss: 0.485, Testing Accuracy: 0.823\n",
            "\n",
            "Epoch: 8 \t Training Loss: 0.457, Training Accuracy: 0.833\n",
            "\n",
            "Testing Loss: 0.490, Testing Accuracy: 0.825\n",
            "\n",
            "Epoch: 9 \t Training Loss: 0.456, Training Accuracy: 0.833\n",
            "\n",
            "Testing Loss: 0.480, Testing Accuracy: 0.826\n",
            "\n",
            "Epoch: 10 \t Training Loss: 0.445, Training Accuracy: 0.837\n",
            "\n",
            "Testing Loss: 0.489, Testing Accuracy: 0.819\n",
            "\n",
            "Epoch: 11 \t Training Loss: 0.441, Training Accuracy: 0.837\n",
            "\n",
            "Testing Loss: 0.459, Testing Accuracy: 0.831\n",
            "\n",
            "Epoch: 12 \t Training Loss: 0.434, Training Accuracy: 0.843\n",
            "\n",
            "Testing Loss: 0.454, Testing Accuracy: 0.834\n",
            "\n",
            "Epoch: 13 \t Training Loss: 0.431, Training Accuracy: 0.843\n",
            "\n",
            "Testing Loss: 0.451, Testing Accuracy: 0.835\n",
            "\n",
            "Epoch: 14 \t Training Loss: 0.427, Training Accuracy: 0.844\n",
            "\n",
            "Testing Loss: 0.456, Testing Accuracy: 0.831\n",
            "\n",
            "Epoch: 15 \t Training Loss: 0.424, Training Accuracy: 0.844\n",
            "\n",
            "Testing Loss: 0.452, Testing Accuracy: 0.840\n",
            "\n",
            "Epoch: 16 \t Training Loss: 0.422, Training Accuracy: 0.846\n",
            "\n",
            "Testing Loss: 0.434, Testing Accuracy: 0.841\n",
            "\n",
            "Epoch: 17 \t Training Loss: 0.423, Training Accuracy: 0.846\n",
            "\n",
            "Testing Loss: 0.463, Testing Accuracy: 0.835\n",
            "\n",
            "Epoch: 18 \t Training Loss: 0.421, Training Accuracy: 0.847\n",
            "\n",
            "Testing Loss: 0.449, Testing Accuracy: 0.835\n",
            "\n",
            "Epoch: 19 \t Training Loss: 0.414, Training Accuracy: 0.848\n",
            "\n",
            "Testing Loss: 0.452, Testing Accuracy: 0.839\n",
            "\n",
            "Epoch: 20 \t Training Loss: 0.415, Training Accuracy: 0.848\n",
            "\n",
            "Testing Loss: 0.456, Testing Accuracy: 0.835\n",
            "\n",
            "Epoch: 21 \t Training Loss: 0.413, Training Accuracy: 0.850\n",
            "\n",
            "Testing Loss: 0.445, Testing Accuracy: 0.839\n",
            "\n",
            "Epoch: 22 \t Training Loss: 0.410, Training Accuracy: 0.848\n",
            "\n",
            "Testing Loss: 0.447, Testing Accuracy: 0.844\n",
            "\n",
            "Epoch: 23 \t Training Loss: 0.410, Training Accuracy: 0.850\n",
            "\n",
            "Testing Loss: 0.433, Testing Accuracy: 0.843\n",
            "\n",
            "Epoch: 24 \t Training Loss: 0.408, Training Accuracy: 0.848\n",
            "\n",
            "Testing Loss: 0.428, Testing Accuracy: 0.841\n",
            "\n",
            "Epoch: 25 \t Training Loss: 0.404, Training Accuracy: 0.851\n",
            "\n",
            "Testing Loss: 0.423, Testing Accuracy: 0.846\n",
            "\n",
            "Epoch: 26 \t Training Loss: 0.405, Training Accuracy: 0.851\n",
            "\n",
            "Testing Loss: 0.466, Testing Accuracy: 0.831\n",
            "\n",
            "Epoch: 27 \t Training Loss: 0.401, Training Accuracy: 0.853\n",
            "\n",
            "Testing Loss: 0.432, Testing Accuracy: 0.844\n",
            "\n",
            "Epoch: 28 \t Training Loss: 0.404, Training Accuracy: 0.852\n",
            "\n",
            "Testing Loss: 0.440, Testing Accuracy: 0.842\n",
            "\n",
            "Epoch: 29 \t Training Loss: 0.402, Training Accuracy: 0.852\n",
            "\n",
            "Testing Loss: 0.421, Testing Accuracy: 0.849\n",
            "\n",
            "Epoch: 30 \t Training Loss: 0.403, Training Accuracy: 0.853\n",
            "\n",
            "Testing Loss: 0.422, Testing Accuracy: 0.847\n",
            "\n",
            "Epoch: 31 \t Training Loss: 0.399, Training Accuracy: 0.853\n",
            "\n",
            "Testing Loss: 0.439, Testing Accuracy: 0.839\n",
            "\n",
            "Epoch: 32 \t Training Loss: 0.399, Training Accuracy: 0.853\n",
            "\n",
            "Testing Loss: 0.426, Testing Accuracy: 0.850\n",
            "\n",
            "Epoch: 33 \t Training Loss: 0.398, Training Accuracy: 0.855\n",
            "\n",
            "Testing Loss: 0.432, Testing Accuracy: 0.843\n",
            "\n",
            "Epoch: 34 \t Training Loss: 0.396, Training Accuracy: 0.856\n",
            "\n",
            "Testing Loss: 0.421, Testing Accuracy: 0.851\n",
            "\n",
            "Epoch: 35 \t Training Loss: 0.400, Training Accuracy: 0.854\n",
            "\n",
            "Testing Loss: 0.426, Testing Accuracy: 0.848\n",
            "\n",
            "Epoch: 36 \t Training Loss: 0.395, Training Accuracy: 0.854\n",
            "\n",
            "Testing Loss: 0.417, Testing Accuracy: 0.851\n",
            "\n",
            "Epoch: 37 \t Training Loss: 0.395, Training Accuracy: 0.855\n",
            "\n",
            "Testing Loss: 0.431, Testing Accuracy: 0.848\n",
            "\n",
            "Epoch: 38 \t Training Loss: 0.394, Training Accuracy: 0.856\n",
            "\n",
            "Testing Loss: 0.433, Testing Accuracy: 0.848\n",
            "\n",
            "Epoch: 39 \t Training Loss: 0.399, Training Accuracy: 0.854\n",
            "\n",
            "Testing Loss: 0.423, Testing Accuracy: 0.851\n",
            "\n",
            "Epoch: 40 \t Training Loss: 0.393, Training Accuracy: 0.857\n",
            "\n",
            "Testing Loss: 0.434, Testing Accuracy: 0.846\n",
            "\n",
            "Epoch: 41 \t Training Loss: 0.392, Training Accuracy: 0.856\n",
            "\n",
            "Testing Loss: 0.423, Testing Accuracy: 0.848\n",
            "\n",
            "Epoch: 42 \t Training Loss: 0.392, Training Accuracy: 0.857\n",
            "\n",
            "Testing Loss: 0.413, Testing Accuracy: 0.850\n",
            "\n",
            "Epoch: 43 \t Training Loss: 0.389, Training Accuracy: 0.858\n",
            "\n",
            "Testing Loss: 0.422, Testing Accuracy: 0.849\n",
            "\n",
            "Epoch: 44 \t Training Loss: 0.393, Training Accuracy: 0.856\n",
            "\n",
            "Testing Loss: 0.426, Testing Accuracy: 0.851\n",
            "\n",
            "Epoch: 45 \t Training Loss: 0.391, Training Accuracy: 0.856\n",
            "\n",
            "Testing Loss: 0.421, Testing Accuracy: 0.848\n",
            "\n",
            "Epoch: 46 \t Training Loss: 0.394, Training Accuracy: 0.856\n",
            "\n",
            "Testing Loss: 0.449, Testing Accuracy: 0.841\n",
            "\n",
            "Epoch: 47 \t Training Loss: 0.392, Training Accuracy: 0.855\n",
            "\n",
            "Testing Loss: 0.435, Testing Accuracy: 0.851\n",
            "\n",
            "Epoch: 48 \t Training Loss: 0.385, Training Accuracy: 0.860\n",
            "\n",
            "Testing Loss: 0.421, Testing Accuracy: 0.851\n",
            "\n",
            "Epoch: 49 \t Training Loss: 0.392, Training Accuracy: 0.857\n",
            "\n",
            "Testing Loss: 0.424, Testing Accuracy: 0.848\n",
            "\n",
            "Epoch: 50 \t Training Loss: 0.389, Training Accuracy: 0.858\n",
            "\n",
            "Testing Loss: 0.415, Testing Accuracy: 0.856\n",
            "\n",
            "Epoch: 51 \t Training Loss: 0.389, Training Accuracy: 0.857\n",
            "\n",
            "Testing Loss: 0.420, Testing Accuracy: 0.851\n",
            "\n",
            "Epoch: 52 \t Training Loss: 0.388, Training Accuracy: 0.857\n",
            "\n",
            "Testing Loss: 0.438, Testing Accuracy: 0.841\n",
            "\n",
            "Epoch: 53 \t Training Loss: 0.387, Training Accuracy: 0.858\n",
            "\n",
            "Testing Loss: 0.402, Testing Accuracy: 0.860\n",
            "\n",
            "Epoch: 54 \t Training Loss: 0.387, Training Accuracy: 0.857\n",
            "\n",
            "Testing Loss: 0.425, Testing Accuracy: 0.851\n",
            "\n",
            "Epoch: 55 \t Training Loss: 0.385, Training Accuracy: 0.859\n",
            "\n",
            "Testing Loss: 0.423, Testing Accuracy: 0.851\n",
            "\n",
            "Epoch: 56 \t Training Loss: 0.384, Training Accuracy: 0.858\n",
            "\n",
            "Testing Loss: 0.418, Testing Accuracy: 0.855\n",
            "\n",
            "Epoch: 57 \t Training Loss: 0.385, Training Accuracy: 0.859\n",
            "\n",
            "Testing Loss: 0.430, Testing Accuracy: 0.844\n",
            "\n",
            "Epoch: 58 \t Training Loss: 0.390, Training Accuracy: 0.856\n",
            "\n",
            "Testing Loss: 0.416, Testing Accuracy: 0.853\n",
            "\n",
            "Epoch: 59 \t Training Loss: 0.388, Training Accuracy: 0.858\n",
            "\n",
            "Testing Loss: 0.424, Testing Accuracy: 0.849\n",
            "\n",
            "Epoch: 60 \t Training Loss: 0.382, Training Accuracy: 0.861\n",
            "\n",
            "Testing Loss: 0.415, Testing Accuracy: 0.852\n",
            "\n",
            "Epoch: 61 \t Training Loss: 0.387, Training Accuracy: 0.858\n",
            "\n",
            "Testing Loss: 0.421, Testing Accuracy: 0.852\n",
            "\n",
            "Epoch: 62 \t Training Loss: 0.381, Training Accuracy: 0.861\n",
            "\n",
            "Testing Loss: 0.411, Testing Accuracy: 0.855\n",
            "\n",
            "Epoch: 63 \t Training Loss: 0.388, Training Accuracy: 0.858\n",
            "\n",
            "Testing Loss: 0.422, Testing Accuracy: 0.851\n",
            "\n",
            "Epoch: 64 \t Training Loss: 0.385, Training Accuracy: 0.859\n",
            "\n",
            "Testing Loss: 0.414, Testing Accuracy: 0.850\n",
            "\n",
            "Epoch: 65 \t Training Loss: 0.381, Training Accuracy: 0.862\n",
            "\n",
            "Testing Loss: 0.419, Testing Accuracy: 0.849\n",
            "\n",
            "Epoch: 66 \t Training Loss: 0.384, Training Accuracy: 0.860\n",
            "\n",
            "Testing Loss: 0.415, Testing Accuracy: 0.855\n",
            "\n",
            "Epoch: 67 \t Training Loss: 0.383, Training Accuracy: 0.860\n",
            "\n",
            "Testing Loss: 0.426, Testing Accuracy: 0.853\n",
            "\n",
            "Epoch: 68 \t Training Loss: 0.386, Training Accuracy: 0.858\n",
            "\n",
            "Testing Loss: 0.415, Testing Accuracy: 0.851\n",
            "\n",
            "Epoch: 69 \t Training Loss: 0.384, Training Accuracy: 0.860\n",
            "\n",
            "Testing Loss: 0.419, Testing Accuracy: 0.850\n",
            "\n",
            "Epoch: 70 \t Training Loss: 0.385, Training Accuracy: 0.859\n",
            "\n",
            "Testing Loss: 0.406, Testing Accuracy: 0.857\n",
            "\n",
            "Epoch: 71 \t Training Loss: 0.385, Training Accuracy: 0.860\n",
            "\n",
            "Testing Loss: 0.421, Testing Accuracy: 0.852\n",
            "\n",
            "Epoch: 72 \t Training Loss: 0.386, Training Accuracy: 0.861\n",
            "\n",
            "Testing Loss: 0.419, Testing Accuracy: 0.848\n",
            "\n",
            "Epoch: 73 \t Training Loss: 0.381, Training Accuracy: 0.860\n",
            "\n",
            "Testing Loss: 0.422, Testing Accuracy: 0.850\n",
            "\n",
            "Epoch: 74 \t Training Loss: 0.381, Training Accuracy: 0.860\n",
            "\n",
            "Testing Loss: 0.409, Testing Accuracy: 0.854\n",
            "\n",
            "Epoch: 75 \t Training Loss: 0.378, Training Accuracy: 0.860\n",
            "\n",
            "Testing Loss: 0.417, Testing Accuracy: 0.848\n",
            "\n",
            "Epoch: 76 \t Training Loss: 0.384, Training Accuracy: 0.860\n",
            "\n",
            "Testing Loss: 0.413, Testing Accuracy: 0.849\n",
            "\n",
            "Epoch: 77 \t Training Loss: 0.378, Training Accuracy: 0.861\n",
            "\n",
            "Testing Loss: 0.416, Testing Accuracy: 0.853\n",
            "\n",
            "Epoch: 78 \t Training Loss: 0.390, Training Accuracy: 0.859\n",
            "\n",
            "Testing Loss: 0.416, Testing Accuracy: 0.848\n",
            "\n",
            "Epoch: 79 \t Training Loss: 0.382, Training Accuracy: 0.860\n",
            "\n",
            "Testing Loss: 0.421, Testing Accuracy: 0.851\n",
            "\n",
            "Epoch: 80 \t Training Loss: 0.377, Training Accuracy: 0.861\n",
            "\n",
            "Testing Loss: 0.413, Testing Accuracy: 0.850\n",
            "\n",
            "Epoch: 81 \t Training Loss: 0.382, Training Accuracy: 0.860\n",
            "\n",
            "Testing Loss: 0.415, Testing Accuracy: 0.851\n",
            "\n",
            "Epoch: 82 \t Training Loss: 0.379, Training Accuracy: 0.861\n",
            "\n",
            "Testing Loss: 0.407, Testing Accuracy: 0.854\n",
            "\n",
            "Epoch: 83 \t Training Loss: 0.377, Training Accuracy: 0.862\n",
            "\n",
            "Testing Loss: 0.409, Testing Accuracy: 0.854\n",
            "\n",
            "Epoch: 84 \t Training Loss: 0.381, Training Accuracy: 0.861\n",
            "\n",
            "Testing Loss: 0.417, Testing Accuracy: 0.855\n",
            "\n",
            "Epoch: 85 \t Training Loss: 0.381, Training Accuracy: 0.860\n",
            "\n",
            "Testing Loss: 0.419, Testing Accuracy: 0.850\n",
            "\n",
            "Epoch: 86 \t Training Loss: 0.383, Training Accuracy: 0.859\n",
            "\n",
            "Testing Loss: 0.411, Testing Accuracy: 0.853\n",
            "\n",
            "Epoch: 87 \t Training Loss: 0.377, Training Accuracy: 0.861\n",
            "\n",
            "Testing Loss: 0.430, Testing Accuracy: 0.845\n",
            "\n",
            "Epoch: 88 \t Training Loss: 0.383, Training Accuracy: 0.860\n",
            "\n",
            "Testing Loss: 0.422, Testing Accuracy: 0.855\n",
            "\n",
            "Epoch: 89 \t Training Loss: 0.382, Training Accuracy: 0.861\n",
            "\n",
            "Testing Loss: 0.422, Testing Accuracy: 0.853\n",
            "\n",
            "Epoch: 90 \t Training Loss: 0.377, Training Accuracy: 0.863\n",
            "\n",
            "Testing Loss: 0.424, Testing Accuracy: 0.844\n",
            "\n",
            "Epoch: 91 \t Training Loss: 0.383, Training Accuracy: 0.862\n",
            "\n",
            "Testing Loss: 0.439, Testing Accuracy: 0.845\n",
            "\n",
            "Epoch: 92 \t Training Loss: 0.380, Training Accuracy: 0.860\n",
            "\n",
            "Testing Loss: 0.410, Testing Accuracy: 0.854\n",
            "\n",
            "Epoch: 93 \t Training Loss: 0.382, Training Accuracy: 0.862\n",
            "\n",
            "Testing Loss: 0.400, Testing Accuracy: 0.856\n",
            "\n",
            "Epoch: 94 \t Training Loss: 0.382, Training Accuracy: 0.860\n",
            "\n",
            "Testing Loss: 0.425, Testing Accuracy: 0.846\n",
            "\n",
            "Epoch: 95 \t Training Loss: 0.378, Training Accuracy: 0.861\n",
            "\n",
            "Testing Loss: 0.420, Testing Accuracy: 0.853\n",
            "\n",
            "Epoch: 96 \t Training Loss: 0.382, Training Accuracy: 0.860\n",
            "\n",
            "Testing Loss: 0.423, Testing Accuracy: 0.852\n",
            "\n",
            "Epoch: 97 \t Training Loss: 0.380, Training Accuracy: 0.861\n",
            "\n",
            "Testing Loss: 0.429, Testing Accuracy: 0.850\n",
            "\n",
            "Epoch: 98 \t Training Loss: 0.378, Training Accuracy: 0.861\n",
            "\n",
            "Testing Loss: 0.411, Testing Accuracy: 0.857\n",
            "\n",
            "Epoch: 99 \t Training Loss: 0.380, Training Accuracy: 0.861\n",
            "\n",
            "Testing Loss: 0.419, Testing Accuracy: 0.853\n"
          ],
          "name": "stdout"
        }
      ]
    },
    {
      "cell_type": "code",
      "metadata": {
        "id": "XXf9l5y8W-a-",
        "colab_type": "code",
        "colab": {
          "base_uri": "https://localhost:8080/",
          "height": 295
        },
        "outputId": "04908e25-2489-4d07-bf22-8da962455aa8"
      },
      "source": [
        "# Visualize the loss.\n",
        "plt.plot(range(len(train_loss)), train_loss, 'r', label=\"Training Loss\")\n",
        "plt.plot(range(len(test_loss)), test_loss, 'b', label=\"Testing Loss\")\n",
        "plt.title(\"Training vs Testing Loss\")\n",
        "plt.xlabel('Epochs')\n",
        "plt.ylabel('Loss')\n",
        "plt.legend()\n",
        "plt.show()"
      ],
      "execution_count": 23,
      "outputs": [
        {
          "output_type": "display_data",
          "data": {
            "image/png": "[encoded data removed]",
            "text/plain": [
              "<Figure size 432x288 with 1 Axes>"
            ]
          },
          "metadata": {
            "tags": []
          }
        }
      ]
    },
    {
      "cell_type": "code",
      "metadata": {
        "id": "9A6MjVCoX6c7",
        "colab_type": "code",
        "colab": {
          "base_uri": "https://localhost:8080/",
          "height": 295
        },
        "outputId": "84b705b5-bacb-4ec9-baab-ba56853adf79"
      },
      "source": [
        "# Visualize the accuracy.\n",
        "plt.plot(range(len(train_acc)), train_acc, 'r', label=\"Training Accuracy\")\n",
        "plt.plot(range(len(test_acc)), test_acc, 'b', label=\"Testing Accuracy\")\n",
        "plt.title(\"Training vs Testing Accuracy\")\n",
        "plt.xlabel('Epochs')\n",
        "plt.ylabel('Accuracy')\n",
        "plt.legend()\n",
        "plt.show()"
      ],
      "execution_count": 24,
      "outputs": [
        {
          "output_type": "display_data",
          "data": {
            "image/png": "[encoded data removed]",
            "text/plain": [
              "<Figure size 432x288 with 1 Axes>"
            ]
          },
          "metadata": {
            "tags": []
          }
        }
      ]
    }
  ]
}