{
  "nbformat": 4,
  "nbformat_minor": 0,
  "metadata": {
    "colab": {
      "name": "Exercise 1 solution.ipynb",
      "provenance": [],
      "collapsed_sections": []
    },
    "kernelspec": {
      "name": "python3",
      "display_name": "Python 3"
    }
  },
  "cells": [
    {
      "cell_type": "code",
      "metadata": {
        "id": "ZHHw9QnqrjPB",
        "colab_type": "code",
        "colab": {}
      },
      "source": [
        "import tensorflow as tf"
      ],
      "execution_count": 0,
      "outputs": []
    },
    {
      "cell_type": "code",
      "metadata": {
        "id": "zNj3SDiVtCD_",
        "colab_type": "code",
        "colab": {}
      },
      "source": [
        "name = tf.placeholder(dtype = tf.string)\n",
        "hello_constant = tf.constant(\"Hello World!\")"
      ],
      "execution_count": 0,
      "outputs": []
    },
    {
      "cell_type": "code",
      "metadata": {
        "id": "visQiYiatNJ5",
        "colab_type": "code",
        "colab": {}
      },
      "source": [
        "out = tf.add(name, hello_constant)"
      ],
      "execution_count": 0,
      "outputs": []
    },
    {
      "cell_type": "code",
      "metadata": {
        "id": "oKVMMcf9tSl_",
        "colab_type": "code",
        "outputId": "d7d82b67-4e07-493d-fac6-28dfa96e022b",
        "colab": {
          "base_uri": "https://localhost:8080/",
          "height": 34
        }
      },
      "source": [
        "sess = tf.Session()\n",
        "print(sess.run(out, {name: \"Daman \"}))\n",
        "sess.close()"
      ],
      "execution_count": 0,
      "outputs": [
        {
          "output_type": "stream",
          "text": [
            "b'Daman Hello World!'\n"
          ],
          "name": "stdout"
        }
      ]
    }
  ]
}